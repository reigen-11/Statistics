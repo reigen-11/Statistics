{
 "cells": [
  {
   "cell_type": "markdown",
   "id": "e86b3be3",
   "metadata": {},
   "source": [
    "## Frequency Distributions"
   ]
  },
  {
   "cell_type": "markdown",
   "id": "aaf82af0",
   "metadata": {},
   "source": [
    "Frequency distributions tell us how frequencies are distributed over the values. That is how many values lie between different intervals. They give us an idea about the range where most of the values fall and the ranges where values are scarce. \n",
    "\n"
   ]
  },
  {
   "cell_type": "markdown",
   "id": "fc31cf87",
   "metadata": {},
   "source": [
    "Example : \n",
    "These are the numbers of newspapers sold at a local shop over the last 10 days:\n",
    "\n",
    "22, 20, 18, 23, 20, 25, 22, 20, 18, 20"
   ]
  },
  {
   "cell_type": "code",
   "execution_count": 1,
   "id": "5b2ad52d",
   "metadata": {},
   "outputs": [],
   "source": [
    "import pandas as pd\n",
    "import matplotlib.pyplot as plt\n",
    "import numpy as np"
   ]
  },
  {
   "cell_type": "markdown",
   "id": "64885784",
   "metadata": {},
   "source": [
    "#### 1] Ungrouped Frequency distribution"
   ]
  },
  {
   "cell_type": "code",
   "execution_count": 2,
   "id": "9edf3ac5",
   "metadata": {
    "scrolled": true
   },
   "outputs": [
    {
     "name": "stdout",
     "output_type": "stream",
     "text": [
      "   value  frequency\n",
      "0     18          2\n",
      "1     20          4\n",
      "2     22          2\n",
      "3     23          1\n",
      "4     25          1\n"
     ]
    }
   ],
   "source": [
    "newspapers = pd.DataFrame([22, 20, 18, 23, 20, 25, 22, 20, 18, 20])\n",
    "\n",
    "newspapers = newspapers[0].value_counts().sort_index().reset_index()\n",
    "newspapers.columns = ['value', 'frequency']\n",
    "\n",
    "print(newspapers)"
   ]
  },
  {
   "cell_type": "code",
   "execution_count": 3,
   "id": "05f7fa05",
   "metadata": {},
   "outputs": [
    {
     "data": {
      "text/plain": [
       "Index(['value', 'frequency'], dtype='object')"
      ]
     },
     "execution_count": 3,
     "metadata": {},
     "output_type": "execute_result"
    }
   ],
   "source": [
    "newspapers.columns"
   ]
  },
  {
   "cell_type": "markdown",
   "id": "4fff422f",
   "metadata": {},
   "source": [
    "Plotting a Graph"
   ]
  },
  {
   "cell_type": "code",
   "execution_count": 4,
   "id": "d34978e0",
   "metadata": {},
   "outputs": [
    {
     "data": {
      "image/png": "[encoded data removed]",
      "text/plain": [
       "<Figure size 432x288 with 1 Axes>"
      ]
     },
     "metadata": {
      "needs_background": "light"
     },
     "output_type": "display_data"
    }
   ],
   "source": [
    "fig , ax = plt.subplots()\n",
    "\n",
    "# ax.plot(newspapers.value,newspapers.frequency) for line graph\n",
    "ax.bar(newspapers.value,newspapers.frequency)\n",
    "\n",
    "ax.set_xlabel(\"value\")\n",
    "ax.set_ylabel(\"Frequency\")\n",
    "\n",
    "ax.set_title(\"Frequency Distribution Bar Graph\")\n",
    "\n",
    "plt.show()\n"
   ]
  },
  {
   "cell_type": "code",
   "execution_count": 5,
   "id": "becc12b8",
   "metadata": {},
   "outputs": [
    {
     "data": {
      "image/png": "[encoded data removed]",
      "text/plain": [
       "<Figure size 432x288 with 1 Axes>"
      ]
     },
     "metadata": {
      "needs_background": "light"
     },
     "output_type": "display_data"
    }
   ],
   "source": [
    "fig , ax = plt.subplots()\n",
    "ax.plot(newspapers.value,newspapers.frequency) \n",
    "\n",
    "ax.set_xlabel(\"value\")\n",
    "ax.set_ylabel(\"Frequency\")\n",
    "\n",
    "ax.set_title(\"Frequency Distribution Line Graph\")\n",
    "\n",
    "plt.show()"
   ]
  },
  {
   "cell_type": "markdown",
   "id": "0485551a",
   "metadata": {},
   "source": [
    "##### 2] Grouped Frequency Distributions- Values are divided between different intervals and then their       frequencies are counted"
   ]
  },
  {
   "cell_type": "code",
   "execution_count": 6,
   "id": "4a7e6e9b",
   "metadata": {},
   "outputs": [],
   "source": [
    "grouped_values = [15,19,23,27]\n",
    "\n",
    "newspapers[\"papers_sold\"] = pd.cut(newspapers.value , grouped_values)\n",
    "\n",
    "grouped_data = newspapers.groupby('papers_sold')['frequency'].sum().reset_index()\n",
    "grouped_data.columns = ['papers_sold','frequency']\n",
    "\n",
    "grouped_data['papers_sold'] = grouped_data['papers_sold'].astype(str).str.strip('(]').str.replace(', ', '-')\n"
   ]
  },
  {
   "cell_type": "code",
   "execution_count": 7,
   "id": "bcab6028",
   "metadata": {},
   "outputs": [
    {
     "data": {
      "text/html": [
       "<div>\n",
       "<style scoped>\n",
       "    .dataframe tbody tr th:only-of-type {\n",
       "        vertical-align: middle;\n",
       "    }\n",
       "\n",
       "    .dataframe tbody tr th {\n",
       "        vertical-align: top;\n",
       "    }\n",
       "\n",
       "    .dataframe thead th {\n",
       "        text-align: right;\n",
       "    }\n",
       "</style>\n",
       "<table border=\"1\" class=\"dataframe\">\n",
       "  <thead>\n",
       "    <tr style=\"text-align: right;\">\n",
       "      <th></th>\n",
       "      <th>papers_sold</th>\n",
       "      <th>frequency</th>\n",
       "    </tr>\n",
       "  </thead>\n",
       "  <tbody>\n",
       "    <tr>\n",
       "      <th>0</th>\n",
       "      <td>15-19</td>\n",
       "      <td>2</td>\n",
       "    </tr>\n",
       "    <tr>\n",
       "      <th>1</th>\n",
       "      <td>19-23</td>\n",
       "      <td>7</td>\n",
       "    </tr>\n",
       "    <tr>\n",
       "      <th>2</th>\n",
       "      <td>23-27</td>\n",
       "      <td>1</td>\n",
       "    </tr>\n",
       "  </tbody>\n",
       "</table>\n",
       "</div>"
      ],
      "text/plain": [
       "  papers_sold  frequency\n",
       "0       15-19          2\n",
       "1       19-23          7\n",
       "2       23-27          1"
      ]
     },
     "execution_count": 7,
     "metadata": {},
     "output_type": "execute_result"
    }
   ],
   "source": [
    "grouped_data"
   ]
  },
  {
   "cell_type": "markdown",
   "id": "5175a5f8",
   "metadata": {},
   "source": [
    "Grouped Frequency Distribution"
   ]
  },
  {
   "cell_type": "code",
   "execution_count": 8,
   "id": "33b4d582",
   "metadata": {},
   "outputs": [
    {
     "data": {
      "image/png": "[encoded data removed]",
      "text/plain": [
       "<Figure size 432x288 with 1 Axes>"
      ]
     },
     "metadata": {
      "needs_background": "light"
     },
     "output_type": "display_data"
    }
   ],
   "source": [
    "fig,ax = plt.subplots()\n",
    "\n",
    "ax.bar(grouped_data.papers_sold,grouped_data.frequency)\n",
    "\n",
    "ax.set_xlabel(\"papers_sold\")\n",
    "ax.set_ylabel(\"Frequency\")\n",
    "\n",
    "ax.set_title(\"Frequency Distribution Bar Graph\")\n",
    "\n",
    "plt.show()"
   ]
  },
  {
   "cell_type": "code",
   "execution_count": 9,
   "id": "57c75206",
   "metadata": {},
   "outputs": [
    {
     "data": {
      "image/png": "[encoded data removed]",
      "text/plain": [
       "<Figure size 432x288 with 1 Axes>"
      ]
     },
     "metadata": {
      "needs_background": "light"
     },
     "output_type": "display_data"
    }
   ],
   "source": [
    "fig,ax = plt.subplots()\n",
    "\n",
    "ax.plot(grouped_data.papers_sold,grouped_data.frequency)\n",
    "\n",
    "ax.set_xlabel(\"papers_sold\")\n",
    "ax.set_ylabel(\"Frequency\")\n",
    "\n",
    "ax.set_title(\"Frequency Distribution Line Graph\")\n",
    "\n",
    "plt.show()"
   ]
  },
  {
   "cell_type": "markdown",
   "id": "f92bc374",
   "metadata": {},
   "source": [
    "## Frequency Polygon"
   ]
  },
  {
   "cell_type": "markdown",
   "id": "22f6a651",
   "metadata": {},
   "source": [
    "A frequency polygon is a graph that shows the frequencies of grouped data. It is a type of frequency diagram that plots the midpoints of the class intervals against the frequencies and then joins up the points with straight lines."
   ]
  },
  {
   "cell_type": "code",
   "execution_count": 35,
   "id": "b3da723f",
   "metadata": {},
   "outputs": [],
   "source": [
    "papers = [22, 20, 18, 23, 20, 25, 22, 20, 18, 20]\n",
    "intervals = [17,18,19,20,21,22,23,24,25,26]\n",
    "midpoints = 0.5 * (edges[1:]+edges[:-1])\n"
   ]
  },
  {
   "cell_type": "code",
   "execution_count": 36,
   "id": "84e03129",
   "metadata": {},
   "outputs": [
    {
     "data": {
      "text/plain": [
       "[<matplotlib.lines.Line2D at 0x7f26eb04ca00>]"
      ]
     },
     "execution_count": 36,
     "metadata": {},
     "output_type": "execute_result"
    },
    {
     "data": {
      "image/png": "[encoded data removed]",
      "text/plain": [
       "<Figure size 432x288 with 1 Axes>"
      ]
     },
     "metadata": {
      "needs_background": "light"
     },
     "output_type": "display_data"
    }
   ],
   "source": [
    "plt.xticks(intervals)\n",
    "y,edges,_ = plt.hist(papers,bins=intervals,histtype='step')\n",
    "\n",
    "plt.plot(midpoints,y)"
   ]
  },
  {
   "cell_type": "code",
   "execution_count": null,
   "id": "e390aabe",
   "metadata": {},
   "outputs": [],
   "source": []
  }
 ],
 "metadata": {
  "kernelspec": {
   "display_name": "Python 3 (ipykernel)",
   "language": "python",
   "name": "python3"
  },
  "language_info": {
   "codemirror_mode": {
    "name": "ipython",
    "version": 3
   },
   "file_extension": ".py",
   "mimetype": "text/x-python",
   "name": "python",
   "nbconvert_exporter": "python",
   "pygments_lexer": "ipython3",
   "version": "3.10.6"
  }
 },
 "nbformat": 4,
 "nbformat_minor": 5
}
