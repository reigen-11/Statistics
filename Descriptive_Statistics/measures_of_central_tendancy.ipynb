{
 "cells": [
  {
   "cell_type": "markdown",
   "id": "94bde69a",
   "metadata": {},
   "source": [
    "# Measures of Central Tendancy"
   ]
  },
  {
   "cell_type": "markdown",
   "id": "acc0982d",
   "metadata": {},
   "source": [
    "An essential statistical concept is the “measure of central tendency“. This measure is an important way to summarize the dataset with one representative value. This measure provides a rough picture of where data points are centered. The commonly used measures of central tendency are:\n"
   ]
  },
  {
   "cell_type": "markdown",
   "id": "7bb942fe",
   "metadata": {},
   "source": [
    "#### Mode: the most frequent value.\n",
    "\n",
    "#### Median: the middle number in an ordered dataset.\n",
    "\n",
    "#### Mean: the sum of all values divided by the total number of values."
   ]
  },
  {
   "cell_type": "markdown",
   "id": "6ed07b53",
   "metadata": {},
   "source": [
    "<div class=\"alert alert-block alert-info\" style=\"margin-top: 40px\">\n",
    "<h1> Mode </h1><br><br>\n",
    "<b>The mode is the most frequently occurring value in the dataset.<br> \n",
    "It’s possible to have no mode, one mode, or more than one mode.</b>\n",
    "</div>"
   ]
  },
  {
   "cell_type": "code",
   "execution_count": 1,
   "id": "32a3fb70",
   "metadata": {},
   "outputs": [],
   "source": [
    "import pandas as pd\n",
    "import numpy as np\n",
    "import matplotlib.pyplot as plt"
   ]
  },
  {
   "cell_type": "markdown",
   "id": "2a01b112",
   "metadata": {},
   "source": [
    "1] Mode for Ungrouped data"
   ]
  },
  {
   "cell_type": "markdown",
   "id": "a6b66838",
   "metadata": {},
   "source": [
    "Suppose we have the following Dataset as Age of People"
   ]
  },
  {
   "cell_type": "code",
   "execution_count": 2,
   "id": "613ea9cc",
   "metadata": {},
   "outputs": [],
   "source": [
    "df = pd.DataFrame([5,12,13,5,18,20,19,18,20,55,60,18,12,13,19])"
   ]
  },
  {
   "cell_type": "code",
   "execution_count": 3,
   "id": "3500dc39",
   "metadata": {},
   "outputs": [
    {
     "data": {
      "text/html": [
       "<div>\n",
       "<style scoped>\n",
       "    .dataframe tbody tr th:only-of-type {\n",
       "        vertical-align: middle;\n",
       "    }\n",
       "\n",
       "    .dataframe tbody tr th {\n",
       "        vertical-align: top;\n",
       "    }\n",
       "\n",
       "    .dataframe thead th {\n",
       "        text-align: right;\n",
       "    }\n",
       "</style>\n",
       "<table border=\"1\" class=\"dataframe\">\n",
       "  <thead>\n",
       "    <tr style=\"text-align: right;\">\n",
       "      <th></th>\n",
       "      <th>Age</th>\n",
       "      <th>frequency</th>\n",
       "    </tr>\n",
       "  </thead>\n",
       "  <tbody>\n",
       "    <tr>\n",
       "      <th>0</th>\n",
       "      <td>5</td>\n",
       "      <td>2</td>\n",
       "    </tr>\n",
       "    <tr>\n",
       "      <th>1</th>\n",
       "      <td>12</td>\n",
       "      <td>2</td>\n",
       "    </tr>\n",
       "    <tr>\n",
       "      <th>2</th>\n",
       "      <td>13</td>\n",
       "      <td>2</td>\n",
       "    </tr>\n",
       "    <tr>\n",
       "      <th>3</th>\n",
       "      <td>18</td>\n",
       "      <td>3</td>\n",
       "    </tr>\n",
       "    <tr>\n",
       "      <th>4</th>\n",
       "      <td>19</td>\n",
       "      <td>2</td>\n",
       "    </tr>\n",
       "    <tr>\n",
       "      <th>5</th>\n",
       "      <td>20</td>\n",
       "      <td>2</td>\n",
       "    </tr>\n",
       "    <tr>\n",
       "      <th>6</th>\n",
       "      <td>55</td>\n",
       "      <td>1</td>\n",
       "    </tr>\n",
       "    <tr>\n",
       "      <th>7</th>\n",
       "      <td>60</td>\n",
       "      <td>1</td>\n",
       "    </tr>\n",
       "  </tbody>\n",
       "</table>\n",
       "</div>"
      ],
      "text/plain": [
       "   Age  frequency\n",
       "0    5          2\n",
       "1   12          2\n",
       "2   13          2\n",
       "3   18          3\n",
       "4   19          2\n",
       "5   20          2\n",
       "6   55          1\n",
       "7   60          1"
      ]
     },
     "execution_count": 3,
     "metadata": {},
     "output_type": "execute_result"
    }
   ],
   "source": [
    "df = df[0].value_counts().sort_index().reset_index()\n",
    "df.columns = ['Age','frequency']\n",
    "df"
   ]
  },
  {
   "cell_type": "markdown",
   "id": "aa124a87",
   "metadata": {},
   "source": [
    "To Find Mode"
   ]
  },
  {
   "cell_type": "code",
   "execution_count": 17,
   "id": "4bd23b76",
   "metadata": {},
   "outputs": [],
   "source": [
    "mode = df.frequency.value_counts().to_dict()"
   ]
  },
  {
   "cell_type": "code",
   "execution_count": 28,
   "id": "b82b670a",
   "metadata": {},
   "outputs": [],
   "source": [
    "max_freq = max(mode.values())\n",
    "max_freq_key = [k for k, v in mode.items() if v == max_freq][0]\n"
   ]
  },
  {
   "cell_type": "code",
   "execution_count": 29,
   "id": "28e9057d",
   "metadata": {},
   "outputs": [],
   "source": [
    "mode_of_data = f'{max_freq_key} : {max_freq}'"
   ]
  },
  {
   "cell_type": "code",
   "execution_count": 30,
   "id": "76cd2302",
   "metadata": {},
   "outputs": [
    {
     "data": {
      "text/plain": [
       "'2 : 5'"
      ]
     },
     "execution_count": 30,
     "metadata": {},
     "output_type": "execute_result"
    }
   ],
   "source": [
    "mode_of_data"
   ]
  },
  {
   "cell_type": "code",
   "execution_count": null,
   "id": "1751843b",
   "metadata": {},
   "outputs": [],
   "source": []
  },
  {
   "cell_type": "code",
   "execution_count": null,
   "id": "4043579b",
   "metadata": {},
   "outputs": [],
   "source": []
  }
 ],
 "metadata": {
  "kernelspec": {
   "display_name": "Python 3 (ipykernel)",
   "language": "python",
   "name": "python3"
  },
  "language_info": {
   "codemirror_mode": {
    "name": "ipython",
    "version": 3
   },
   "file_extension": ".py",
   "mimetype": "text/x-python",
   "name": "python",
   "nbconvert_exporter": "python",
   "pygments_lexer": "ipython3",
   "version": "3.10.6"
  }
 },
 "nbformat": 4,
 "nbformat_minor": 5
}
