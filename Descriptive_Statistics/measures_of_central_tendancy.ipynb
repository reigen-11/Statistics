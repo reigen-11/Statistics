{
 "cells": [
  {
   "cell_type": "markdown",
   "id": "94bde69a",
   "metadata": {},
   "source": [
    "# Measures of Central Tendancy"
   ]
  },
  {
   "cell_type": "markdown",
   "id": "acc0982d",
   "metadata": {},
   "source": [
    "An essential statistical concept is the “measure of central tendency“. This measure is an important way to summarize the dataset with one representative value. This measure provides a rough picture of where data points are centered. The commonly used measures of central tendency are:\n"
   ]
  },
  {
   "cell_type": "markdown",
   "id": "7bb942fe",
   "metadata": {},
   "source": [
    "#### Mode: the most frequent value.\n",
    "\n",
    "#### Median: the middle number in an ordered dataset.\n",
    "\n",
    "#### Mean: the sum of all values divided by the total number of values."
   ]
  },
  {
   "cell_type": "markdown",
   "id": "6ed07b53",
   "metadata": {},
   "source": [
    "<div class=\"alert alert-block alert-info\" style=\"margin-top: 40px\">\n",
    "<h1> Mode </h1><br>\n",
    "<b>The mode is the most frequently occurring value in the dataset.<br> \n",
    "It’s possible to have no mode, one mode, or more than one mode.</b>\n",
    "</div>"
   ]
  },
  {
   "cell_type": "code",
   "execution_count": 11,
   "id": "32a3fb70",
   "metadata": {},
   "outputs": [],
   "source": [
    "import pandas as pd\n",
    "import numpy as np\n",
    "import matplotlib.pyplot as plt"
   ]
  },
  {
   "cell_type": "markdown",
   "id": "2a01b112",
   "metadata": {},
   "source": [
    "1] Mode for Ungrouped data"
   ]
  },
  {
   "cell_type": "markdown",
   "id": "a6b66838",
   "metadata": {},
   "source": [
    "Suppose we have the following Dataset as Age of People"
   ]
  },
  {
   "cell_type": "code",
   "execution_count": 12,
   "id": "613ea9cc",
   "metadata": {},
   "outputs": [],
   "source": [
    "df = pd.DataFrame([5,12,13,5,18,20,19,18,20,55,60,18,12,13,19])"
   ]
  },
  {
   "cell_type": "code",
   "execution_count": 13,
   "id": "3500dc39",
   "metadata": {},
   "outputs": [
    {
     "data": {
      "text/html": [
       "<div><div id=06168908-4a1d-404f-9c6b-9a6c2fcd6e75 style=\"display:none; background-color:#9D6CFF; color:white; width:200px; height:30px; padding-left:5px; border-radius:4px; flex-direction:row; justify-content:space-around; align-items:center;\" onmouseover=\"this.style.backgroundColor='#BA9BF8'\" onmouseout=\"this.style.backgroundColor='#9D6CFF'\" onclick=\"window.commands?.execute('create-mitosheet-from-dataframe-output');\">See Full Dataframe in Mito</div> <script> if (window.commands?.hasCommand('create-mitosheet-from-dataframe-output')) document.getElementById('06168908-4a1d-404f-9c6b-9a6c2fcd6e75').style.display = 'flex' </script> <table border=\"1\" class=\"dataframe\">\n",
       "  <thead>\n",
       "    <tr style=\"text-align: right;\">\n",
       "      <th></th>\n",
       "      <th>Age</th>\n",
       "      <th>frequency</th>\n",
       "    </tr>\n",
       "  </thead>\n",
       "  <tbody>\n",
       "    <tr>\n",
       "      <th>0</th>\n",
       "      <td>5</td>\n",
       "      <td>2</td>\n",
       "    </tr>\n",
       "    <tr>\n",
       "      <th>1</th>\n",
       "      <td>12</td>\n",
       "      <td>2</td>\n",
       "    </tr>\n",
       "    <tr>\n",
       "      <th>2</th>\n",
       "      <td>13</td>\n",
       "      <td>2</td>\n",
       "    </tr>\n",
       "    <tr>\n",
       "      <th>3</th>\n",
       "      <td>18</td>\n",
       "      <td>3</td>\n",
       "    </tr>\n",
       "    <tr>\n",
       "      <th>4</th>\n",
       "      <td>19</td>\n",
       "      <td>2</td>\n",
       "    </tr>\n",
       "    <tr>\n",
       "      <th>5</th>\n",
       "      <td>20</td>\n",
       "      <td>2</td>\n",
       "    </tr>\n",
       "    <tr>\n",
       "      <th>6</th>\n",
       "      <td>55</td>\n",
       "      <td>1</td>\n",
       "    </tr>\n",
       "    <tr>\n",
       "      <th>7</th>\n",
       "      <td>60</td>\n",
       "      <td>1</td>\n",
       "    </tr>\n",
       "  </tbody>\n",
       "</table></div>"
      ],
      "text/plain": [
       "   Age  frequency\n",
       "0    5          2\n",
       "1   12          2\n",
       "2   13          2\n",
       "3   18          3\n",
       "4   19          2\n",
       "5   20          2\n",
       "6   55          1\n",
       "7   60          1"
      ]
     },
     "execution_count": 13,
     "metadata": {},
     "output_type": "execute_result"
    }
   ],
   "source": [
    "df = df[0].value_counts().sort_index().reset_index()\n",
    "df.columns = ['Age','frequency']\n",
    "df"
   ]
  },
  {
   "cell_type": "markdown",
   "id": "aa124a87",
   "metadata": {},
   "source": [
    "To Find Mode"
   ]
  },
  {
   "cell_type": "code",
   "execution_count": 14,
   "id": "4bd23b76",
   "metadata": {},
   "outputs": [],
   "source": [
    "mode = df.frequency.value_counts().to_dict()"
   ]
  },
  {
   "cell_type": "code",
   "execution_count": 15,
   "id": "b82b670a",
   "metadata": {},
   "outputs": [],
   "source": [
    "max_freq = max(mode.values())\n",
    "max_freq_key = [k for k, v in mode.items() if v == max_freq][0]\n"
   ]
  },
  {
   "cell_type": "code",
   "execution_count": 16,
   "id": "28e9057d",
   "metadata": {},
   "outputs": [
    {
     "name": "stdout",
     "output_type": "stream",
     "text": [
      "2 : 5\n"
     ]
    }
   ],
   "source": [
    "print(f'{max_freq_key} : {max_freq}')"
   ]
  },
  {
   "cell_type": "markdown",
   "id": "9ba471ec",
   "metadata": {},
   "source": [
    "<div class=\"alert alert-block alert-info\" style=\"margin-top: 40px\">\n",
    "<h1> Median </h1><br>\n",
    "<b>The Median is the middle value of a set of data.<br> To determine the median value in a sequence of numbers, the numbers must first be arranged in ascending order.</b>\n",
    "</div>"
   ]
  },
  {
   "cell_type": "code",
   "execution_count": 18,
   "id": "4043579b",
   "metadata": {},
   "outputs": [
    {
     "data": {
      "text/html": [
       "<div><div id=a5eda54c-bf30-4861-98b2-a3882b8a1406 style=\"display:none; background-color:#9D6CFF; color:white; width:200px; height:30px; padding-left:5px; border-radius:4px; flex-direction:row; justify-content:space-around; align-items:center;\" onmouseover=\"this.style.backgroundColor='#BA9BF8'\" onmouseout=\"this.style.backgroundColor='#9D6CFF'\" onclick=\"window.commands?.execute('create-mitosheet-from-dataframe-output');\">See Full Dataframe in Mito</div> <script> if (window.commands?.hasCommand('create-mitosheet-from-dataframe-output')) document.getElementById('a5eda54c-bf30-4861-98b2-a3882b8a1406').style.display = 'flex' </script> <table border=\"1\" class=\"dataframe\">\n",
       "  <thead>\n",
       "    <tr style=\"text-align: right;\">\n",
       "      <th></th>\n",
       "      <th>Age</th>\n",
       "      <th>frequency</th>\n",
       "    </tr>\n",
       "  </thead>\n",
       "  <tbody>\n",
       "    <tr>\n",
       "      <th>0</th>\n",
       "      <td>5</td>\n",
       "      <td>2</td>\n",
       "    </tr>\n",
       "    <tr>\n",
       "      <th>1</th>\n",
       "      <td>12</td>\n",
       "      <td>2</td>\n",
       "    </tr>\n",
       "    <tr>\n",
       "      <th>2</th>\n",
       "      <td>13</td>\n",
       "      <td>2</td>\n",
       "    </tr>\n",
       "    <tr>\n",
       "      <th>3</th>\n",
       "      <td>18</td>\n",
       "      <td>3</td>\n",
       "    </tr>\n",
       "    <tr>\n",
       "      <th>4</th>\n",
       "      <td>19</td>\n",
       "      <td>2</td>\n",
       "    </tr>\n",
       "    <tr>\n",
       "      <th>5</th>\n",
       "      <td>20</td>\n",
       "      <td>2</td>\n",
       "    </tr>\n",
       "    <tr>\n",
       "      <th>6</th>\n",
       "      <td>55</td>\n",
       "      <td>1</td>\n",
       "    </tr>\n",
       "    <tr>\n",
       "      <th>7</th>\n",
       "      <td>60</td>\n",
       "      <td>1</td>\n",
       "    </tr>\n",
       "  </tbody>\n",
       "</table></div>"
      ],
      "text/plain": [
       "   Age  frequency\n",
       "0    5          2\n",
       "1   12          2\n",
       "2   13          2\n",
       "3   18          3\n",
       "4   19          2\n",
       "5   20          2\n",
       "6   55          1\n",
       "7   60          1"
      ]
     },
     "execution_count": 18,
     "metadata": {},
     "output_type": "execute_result"
    }
   ],
   "source": [
    "df"
   ]
  },
  {
   "cell_type": "code",
   "execution_count": 30,
   "id": "49c801e5",
   "metadata": {},
   "outputs": [],
   "source": [
    "cumulative_frequency = []\n",
    "sum = 0\n",
    "\n",
    "for i in df.frequency:\n",
    "    sum += i\n",
    "    cumulative_frequency.append(sum)"
   ]
  },
  {
   "cell_type": "code",
   "execution_count": 31,
   "id": "08e27b4e",
   "metadata": {},
   "outputs": [
    {
     "data": {
      "text/plain": [
       "[2, 4, 6, 9, 11, 13, 14, 15]"
      ]
     },
     "execution_count": 31,
     "metadata": {},
     "output_type": "execute_result"
    }
   ],
   "source": [
    "cumulative_frequency"
   ]
  },
  {
   "cell_type": "code",
   "execution_count": 32,
   "id": "333373d2",
   "metadata": {},
   "outputs": [],
   "source": [
    "df['cumulative_frequency'] = cumulative_frequency"
   ]
  },
  {
   "cell_type": "code",
   "execution_count": 33,
   "id": "df16fa95",
   "metadata": {},
   "outputs": [
    {
     "data": {
      "text/html": [
       "<div><div id=483fe450-4f98-436f-a237-5da073e2de7f style=\"display:none; background-color:#9D6CFF; color:white; width:200px; height:30px; padding-left:5px; border-radius:4px; flex-direction:row; justify-content:space-around; align-items:center;\" onmouseover=\"this.style.backgroundColor='#BA9BF8'\" onmouseout=\"this.style.backgroundColor='#9D6CFF'\" onclick=\"window.commands?.execute('create-mitosheet-from-dataframe-output');\">See Full Dataframe in Mito</div> <script> if (window.commands?.hasCommand('create-mitosheet-from-dataframe-output')) document.getElementById('483fe450-4f98-436f-a237-5da073e2de7f').style.display = 'flex' </script> <table border=\"1\" class=\"dataframe\">\n",
       "  <thead>\n",
       "    <tr style=\"text-align: right;\">\n",
       "      <th></th>\n",
       "      <th>Age</th>\n",
       "      <th>frequency</th>\n",
       "      <th>cumulative_frequency</th>\n",
       "    </tr>\n",
       "  </thead>\n",
       "  <tbody>\n",
       "    <tr>\n",
       "      <th>0</th>\n",
       "      <td>5</td>\n",
       "      <td>2</td>\n",
       "      <td>2</td>\n",
       "    </tr>\n",
       "    <tr>\n",
       "      <th>1</th>\n",
       "      <td>12</td>\n",
       "      <td>2</td>\n",
       "      <td>4</td>\n",
       "    </tr>\n",
       "    <tr>\n",
       "      <th>2</th>\n",
       "      <td>13</td>\n",
       "      <td>2</td>\n",
       "      <td>6</td>\n",
       "    </tr>\n",
       "    <tr>\n",
       "      <th>3</th>\n",
       "      <td>18</td>\n",
       "      <td>3</td>\n",
       "      <td>9</td>\n",
       "    </tr>\n",
       "    <tr>\n",
       "      <th>4</th>\n",
       "      <td>19</td>\n",
       "      <td>2</td>\n",
       "      <td>11</td>\n",
       "    </tr>\n",
       "    <tr>\n",
       "      <th>5</th>\n",
       "      <td>20</td>\n",
       "      <td>2</td>\n",
       "      <td>13</td>\n",
       "    </tr>\n",
       "    <tr>\n",
       "      <th>6</th>\n",
       "      <td>55</td>\n",
       "      <td>1</td>\n",
       "      <td>14</td>\n",
       "    </tr>\n",
       "    <tr>\n",
       "      <th>7</th>\n",
       "      <td>60</td>\n",
       "      <td>1</td>\n",
       "      <td>15</td>\n",
       "    </tr>\n",
       "  </tbody>\n",
       "</table></div>"
      ],
      "text/plain": [
       "   Age  frequency  cumulative_frequency\n",
       "0    5          2                     2\n",
       "1   12          2                     4\n",
       "2   13          2                     6\n",
       "3   18          3                     9\n",
       "4   19          2                    11\n",
       "5   20          2                    13\n",
       "6   55          1                    14\n",
       "7   60          1                    15"
      ]
     },
     "execution_count": 33,
     "metadata": {},
     "output_type": "execute_result"
    }
   ],
   "source": [
    "df"
   ]
  },
  {
   "cell_type": "code",
   "execution_count": 58,
   "id": "c4612021",
   "metadata": {},
   "outputs": [],
   "source": [
    "total_count = df.frequency.sum()"
   ]
  },
  {
   "cell_type": "code",
   "execution_count": 59,
   "id": "4dcfe17f",
   "metadata": {},
   "outputs": [],
   "source": [
    "middle_index = total_count/2\n"
   ]
  },
  {
   "cell_type": "code",
   "execution_count": 68,
   "id": "15e35763",
   "metadata": {},
   "outputs": [],
   "source": [
    "\n",
    "if total_count % 2 == 0:\n",
    "    \n",
    "    left_index = df[df['cumulative_frequency'] < middle_index].index[-1]\n",
    "    right_index = df[df['cumulative_frequency'] >= middle_index].index[0]\n",
    "    median = (df.loc[left_index, 'Age'] + df.loc[right_index, 'Age']) / 2\n",
    "\n",
    "else:\n",
    "\n",
    "    index = df[df['cumulative_frequency'] >= middle_index].index[0]\n",
    "    median = df.loc[index, 'Age']\n",
    "\n"
   ]
  },
  {
   "cell_type": "code",
   "execution_count": 69,
   "id": "33ff64c2",
   "metadata": {},
   "outputs": [
    {
     "name": "stdout",
     "output_type": "stream",
     "text": [
      "Median: 18\n"
     ]
    }
   ],
   "source": [
    "print(\"Median:\", median)"
   ]
  },
  {
   "cell_type": "code",
   "execution_count": null,
   "id": "f4ba503e",
   "metadata": {},
   "outputs": [],
   "source": []
  }
 ],
 "metadata": {
  "kernelspec": {
   "display_name": "Python 3 (ipykernel)",
   "language": "python",
   "name": "python3"
  },
  "language_info": {
   "codemirror_mode": {
    "name": "ipython",
    "version": 3
   },
   "file_extension": ".py",
   "mimetype": "text/x-python",
   "name": "python",
   "nbconvert_exporter": "python",
   "pygments_lexer": "ipython3",
   "version": "3.9.12"
  }
 },
 "nbformat": 4,
 "nbformat_minor": 5
}
